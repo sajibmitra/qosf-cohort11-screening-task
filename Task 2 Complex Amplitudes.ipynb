{
 "cells": [
  {
   "cell_type": "code",
   "execution_count": 1,
   "id": "aca5b995-5f6d-43b1-bb07-761ebc5fd946",
   "metadata": {},
   "outputs": [
    {
     "name": "stdin",
     "output_type": "stream",
     "text": [
      "Length of Qubit(n):  2\n",
      "Enter the attribute(Separated by space):  .5 .5 .5 1\n"
     ]
    },
    {
     "name": "stdout",
     "output_type": "stream",
     "text": [
      "Calculated Normalized value: 1.75\n",
      "Final Normalized value: 0.9999999999999998\n",
      "Normalized 2-qubit: [0.37796447+0.j 0.37796447+0.j 0.37796447+0.j 0.75592895+0.j]\n"
     ]
    }
   ],
   "source": [
    "# TASK 2: Complex Amplitudes\n",
    "# Here is the sample test\n",
    "# Length of Qubit(n):  2\n",
    "# Enter the attribute(Separated by space):  0.5+0.5j 0.5-0.5j 0.5 0.5j\n",
    "# Calculated Normalized value: 1.5000000000000002\n",
    "# Final Normalized value: 0.9999999999999999\n",
    "# Normalized 2-qubit: [0.40824829+0.40824829j 0.40824829-0.40824829j 0.40824829+0.j 0.0+0.40824829j]\n",
    "\n",
    "#Required packages\n",
    "import numpy as np\n",
    "\n",
    "#The length of qubit\n",
    "length = int(input(\"Length of Qubit(n): \"))\n",
    "amplitude = input(\"Enter the attribute(Separated by space): \").split()\n",
    "\n",
    "#In case of any size mismatch\n",
    "if len(amplitude) != 2 ** length:\n",
    "    raise ValueError(f\"Expected {2 ** length} is not equal to {len(amplitude)}\")\n",
    "\n",
    "try:\n",
    "#Converting to Complex number\n",
    "    amps = np.array([complex(a) for a in amplitude], dtype=np.complex128)\n",
    "#Calculate the sum of the square of all amplitude   \n",
    "    normval = np.sum(np.abs(amps)**2)\n",
    "except ValueError as e:\n",
    "    raise ValueError(\"Error: \", e)\n",
    "\n",
    "print(f\"Calculated Normalized value: {normval}\");\n",
    "#Check Normalization: If not then normalize amps/sqrt(sum of the square of all absolute value)\n",
    "if ~np.isclose(normval, 1.0):\n",
    "    normfact = np.sqrt(normval)\n",
    "    amps = amps / normfact\n",
    "    normval = np.sum(np.abs(amps)**2)\n",
    "    print(f\"Final Normalized value: {normval}\");\n",
    "    \n",
    "print(f\"Normalized {length}-qubit: {amps}\");\n"
   ]
  },
  {
   "cell_type": "code",
   "execution_count": null,
   "id": "af82b9a1-39f4-4b3e-9358-5bcc86b90293",
   "metadata": {},
   "outputs": [],
   "source": []
  }
 ],
 "metadata": {
  "kernelspec": {
   "display_name": "Python 3 (ipykernel)",
   "language": "python",
   "name": "python3"
  },
  "language_info": {
   "codemirror_mode": {
    "name": "ipython",
    "version": 3
   },
   "file_extension": ".py",
   "mimetype": "text/x-python",
   "name": "python",
   "nbconvert_exporter": "python",
   "pygments_lexer": "ipython3",
   "version": "3.13.2"
  }
 },
 "nbformat": 4,
 "nbformat_minor": 5
}
