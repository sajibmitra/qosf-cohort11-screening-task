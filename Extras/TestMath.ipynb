{
 "cells": [
  {
   "cell_type": "code",
   "execution_count": 1,
   "id": "aca5b995-5f6d-43b1-bb07-761ebc5fd946",
   "metadata": {},
   "outputs": [
    {
     "name": "stdin",
     "output_type": "stream",
     "text": [
      "Length of Qubit(n):  2\n",
      "Enter the attribute(Separated by space):  \n"
     ]
    },
    {
     "ename": "ValueError",
     "evalue": "Expected 4 is not equal to 0",
     "output_type": "error",
     "traceback": [
      "\u001b[31m---------------------------------------------------------------------------\u001b[39m",
      "\u001b[31mValueError\u001b[39m                                Traceback (most recent call last)",
      "\u001b[36mCell\u001b[39m\u001b[36m \u001b[39m\u001b[32mIn[1]\u001b[39m\u001b[32m, line 18\u001b[39m\n\u001b[32m     16\u001b[39m \u001b[38;5;66;03m#In case of any size mismatch\u001b[39;00m\n\u001b[32m     17\u001b[39m \u001b[38;5;28;01mif\u001b[39;00m \u001b[38;5;28mlen\u001b[39m(amplitude) != \u001b[32m2\u001b[39m ** length:\n\u001b[32m---> \u001b[39m\u001b[32m18\u001b[39m     \u001b[38;5;28;01mraise\u001b[39;00m \u001b[38;5;167;01mValueError\u001b[39;00m(\u001b[33mf\u001b[39m\u001b[33m\"\u001b[39m\u001b[33mExpected \u001b[39m\u001b[38;5;132;01m{\u001b[39;00m\u001b[32m2\u001b[39m\u001b[38;5;250m \u001b[39m**\u001b[38;5;250m \u001b[39mlength\u001b[38;5;132;01m}\u001b[39;00m\u001b[33m is not equal to \u001b[39m\u001b[38;5;132;01m{\u001b[39;00m\u001b[38;5;28mlen\u001b[39m(amplitude)\u001b[38;5;132;01m}\u001b[39;00m\u001b[33m\"\u001b[39m)\n\u001b[32m     20\u001b[39m \u001b[38;5;28;01mtry\u001b[39;00m:\n\u001b[32m     21\u001b[39m \u001b[38;5;66;03m#Converting to Complex number\u001b[39;00m\n\u001b[32m     22\u001b[39m     amps = np.array([\u001b[38;5;28mcomplex\u001b[39m(a) \u001b[38;5;28;01mfor\u001b[39;00m a \u001b[38;5;129;01min\u001b[39;00m amplitude], dtype=np.complex128)\n",
      "\u001b[31mValueError\u001b[39m: Expected 4 is not equal to 0"
     ]
    }
   ],
   "source": [
    "# TEST 2: Complex Amplitudes\n",
    "# Here is the sample test\n",
    "# Length of Qubit(n):  2\n",
    "# Enter the attribute(Separated by space):  0.5+0.5j 0.5-0.5j 0.5 0.5j\n",
    "# Calculated Normalized value: 1.5000000000000002\n",
    "# Final Normalized value: 0.9999999999999999\n",
    "# Normalized 2-qubit: [0.40824829+0.40824829j 0.40824829-0.40824829j 0.40824829+0.j 0.0+0.40824829j]\n",
    "\n",
    "#Required packages\n",
    "import numpy as np\n",
    "\n",
    "#The length of qubit\n",
    "length = int(input(\"Length of Qubit(n): \"))\n",
    "amplitude = input(\"Enter the attribute(Separated by space): \").split()\n",
    "\n",
    "#In case of any size mismatch\n",
    "if len(amplitude) != 2 ** length:\n",
    "    raise ValueError(f\"Expected {2 ** length} is not equal to {len(amplitude)}\")\n",
    "\n",
    "try:\n",
    "#Converting to Complex number\n",
    "    amps = np.array([complex(a) for a in amplitude], dtype=np.complex128)\n",
    "#Calculate the sum of the square of all amplitude   \n",
    "    normval = np.sum(np.abs(amps)**2)\n",
    "except ValueError as e:\n",
    "    raise ValueError(\"Error: \", e)\n",
    "\n",
    "print(f\"Calculated Normalized value: {normval}\");\n",
    "#Check Normalization: If not then normalize amps/sqrt(sum of the square of all absolute value)\n",
    "if ~np.isclose(normval, 1.0):\n",
    "    normfact = np.sqrt(normval)\n",
    "    amps = amps / normfact\n",
    "    normval = np.sum(np.abs(amps)**2)\n",
    "    print(f\"Final Normalized value: {normval}\");\n",
    "    \n",
    "print(f\"Normalized {length}-qubit: {amps}\");\n"
   ]
  },
  {
   "cell_type": "code",
   "execution_count": null,
   "id": "af82b9a1-39f4-4b3e-9358-5bcc86b90293",
   "metadata": {},
   "outputs": [],
   "source": []
  }
 ],
 "metadata": {
  "kernelspec": {
   "display_name": "Python 3 (ipykernel)",
   "language": "python",
   "name": "python3"
  },
  "language_info": {
   "codemirror_mode": {
    "name": "ipython",
    "version": 3
   },
   "file_extension": ".py",
   "mimetype": "text/x-python",
   "name": "python",
   "nbconvert_exporter": "python",
   "pygments_lexer": "ipython3",
   "version": "3.13.2"
  }
 },
 "nbformat": 4,
 "nbformat_minor": 5
}
